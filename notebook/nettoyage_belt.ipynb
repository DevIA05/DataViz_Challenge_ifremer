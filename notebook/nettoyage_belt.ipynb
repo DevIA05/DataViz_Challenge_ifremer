{
 "cells": [
  {
   "cell_type": "code",
   "execution_count": 2,
   "metadata": {},
   "outputs": [],
   "source": [
    "import pandas as pd"
   ]
  },
  {
   "cell_type": "code",
   "execution_count": 3,
   "metadata": {},
   "outputs": [],
   "source": [
    "path_belt = \"../data/POPMER/reefdb-extraction-complet-POPMER_BELT-2023-10-20-081727.csv\"\n",
    "data_belt = pd.read_csv(path_belt, sep=\";\")"
   ]
  },
  {
   "cell_type": "code",
   "execution_count": 6,
   "metadata": {},
   "outputs": [],
   "source": [
    "keep_columns = [\"Station\",\"Date\",\"Taxon\", \"Groupe_taxons\", \"MESURE_Numero_individu\", \n",
    "                \"REPLICAT_Longueur_poisson_cm_Protocole_BELT_-_suivi_cible-Centimetre\", \n",
    "                \"REPLICAT_Substrat_Suivis_Epinephelus_merra_POPMER\", \n",
    "                \"REPLICAT_Longueur_transect_metre_ruban-Metre\",\n",
    "                \"STATION_Identifiant\",\n",
    "                \"OBSERVATION_Coordonnees_MINX\", \"OBSERVATION_Coordonnees_MINY\"]\n",
    "cleaned_data = data_belt[keep_columns]"
   ]
  },
  {
   "cell_type": "markdown",
   "metadata": {},
   "source": [
    "# Flag"
   ]
  },
  {
   "cell_type": "code",
   "execution_count": 5,
   "metadata": {},
   "outputs": [
    {
     "name": "stderr",
     "output_type": "stream",
     "text": [
      "C:\\Users\\Idriss K\\AppData\\Local\\Temp\\ipykernel_16328\\2171952117.py:1: SettingWithCopyWarning: \n",
      "A value is trying to be set on a copy of a slice from a DataFrame.\n",
      "Try using .loc[row_indexer,col_indexer] = value instead\n",
      "\n",
      "See the caveats in the documentation: https://pandas.pydata.org/pandas-docs/stable/user_guide/indexing.html#returning-a-view-versus-a-copy\n",
      "  cleaned_data[\"Flag\"] = \"Belt\"\n"
     ]
    }
   ],
   "source": [
    "cleaned_data[\"Flag\"] = \"Belt\""
   ]
  },
  {
   "cell_type": "code",
   "execution_count": 7,
   "metadata": {},
   "outputs": [
    {
     "name": "stderr",
     "output_type": "stream",
     "text": [
      "C:\\Users\\Idriss K\\AppData\\Local\\Temp\\ipykernel_18336\\1488595986.py:1: SettingWithCopyWarning: \n",
      "A value is trying to be set on a copy of a slice from a DataFrame\n",
      "\n",
      "See the caveats in the documentation: https://pandas.pydata.org/pandas-docs/stable/user_guide/indexing.html#returning-a-view-versus-a-copy\n",
      "  cleaned_data.rename(columns={\"REPLICAT_Longueur_poisson_cm_Protocole_BELT_-_suivi_cible-Centimetre\":\"Longueur_poisson_cm\",\n"
     ]
    }
   ],
   "source": [
    "cleaned_data.rename(columns={\"REPLICAT_Longueur_poisson_cm_Protocole_BELT_-_suivi_cible-Centimetre\":\"Longueur_poisson_cm\",\n",
    "                             \"REPLICAT_Substrat_Suivis_Epinephelus_merra_POPMER\": \"Substrat_Suivis\",\n",
    "                             \"REPLICAT_Longueur_transect_metre_ruban-Metre\": \"Longueur_transect_metre\"}, inplace=True)"
   ]
  },
  {
   "cell_type": "code",
   "execution_count": 7,
   "metadata": {},
   "outputs": [
    {
     "name": "stderr",
     "output_type": "stream",
     "text": [
      "C:\\Users\\Idriss K\\AppData\\Local\\Temp\\ipykernel_16328\\1036637308.py:2: SettingWithCopyWarning: \n",
      "A value is trying to be set on a copy of a slice from a DataFrame.\n",
      "Try using .loc[row_indexer,col_indexer] = value instead\n",
      "\n",
      "See the caveats in the documentation: https://pandas.pydata.org/pandas-docs/stable/user_guide/indexing.html#returning-a-view-versus-a-copy\n",
      "  cleaned_data[col_rep] = cleaned_data[col_rep].replace(',', '.', regex=True)\n"
     ]
    }
   ],
   "source": [
    "col_rep = [\"OBSERVATION_Coordonnees_MINX\", \"OBSERVATION_Coordonnees_MINY\"]\n",
    "cleaned_data[col_rep] = cleaned_data[col_rep].replace(',', '.', regex=True)"
   ]
  },
  {
   "cell_type": "code",
   "execution_count": 8,
   "metadata": {},
   "outputs": [
    {
     "name": "stderr",
     "output_type": "stream",
     "text": [
      "C:\\Users\\Idriss K\\AppData\\Local\\Temp\\ipykernel_16328\\49110650.py:2: SettingWithCopyWarning: \n",
      "A value is trying to be set on a copy of a slice from a DataFrame.\n",
      "Try using .loc[row_indexer,col_indexer] = value instead\n",
      "\n",
      "See the caveats in the documentation: https://pandas.pydata.org/pandas-docs/stable/user_guide/indexing.html#returning-a-view-versus-a-copy\n",
      "  cleaned_data[\"Year\"] = date_format.dt.year\n",
      "C:\\Users\\Idriss K\\AppData\\Local\\Temp\\ipykernel_16328\\49110650.py:3: SettingWithCopyWarning: \n",
      "A value is trying to be set on a copy of a slice from a DataFrame.\n",
      "Try using .loc[row_indexer,col_indexer] = value instead\n",
      "\n",
      "See the caveats in the documentation: https://pandas.pydata.org/pandas-docs/stable/user_guide/indexing.html#returning-a-view-versus-a-copy\n",
      "  cleaned_data[\"Date\"] = date_format\n"
     ]
    }
   ],
   "source": [
    "date_format = pd.to_datetime(cleaned_data['Date'], format=\"%d/%m/%Y\")\n",
    "cleaned_data[\"Year\"] = date_format.dt.year\n",
    "cleaned_data[\"Date\"] = date_format"
   ]
  },
  {
   "cell_type": "code",
   "execution_count": 9,
   "metadata": {},
   "outputs": [],
   "source": [
    "cleaned_data.to_csv(\"../data/belt_cleadedAndTransform.csv\", sep=\",\",  index=False)"
   ]
  },
  {
   "cell_type": "code",
   "execution_count": 10,
   "metadata": {},
   "outputs": [
    {
     "data": {
      "text/html": [
       "<div>\n",
       "<style scoped>\n",
       "    .dataframe tbody tr th:only-of-type {\n",
       "        vertical-align: middle;\n",
       "    }\n",
       "\n",
       "    .dataframe tbody tr th {\n",
       "        vertical-align: top;\n",
       "    }\n",
       "\n",
       "    .dataframe thead th {\n",
       "        text-align: right;\n",
       "    }\n",
       "</style>\n",
       "<table border=\"1\" class=\"dataframe\">\n",
       "  <thead>\n",
       "    <tr style=\"text-align: right;\">\n",
       "      <th></th>\n",
       "      <th>Station</th>\n",
       "      <th>Date</th>\n",
       "      <th>Taxon</th>\n",
       "      <th>Groupe_taxons</th>\n",
       "      <th>MESURE_Numero_individu</th>\n",
       "      <th>Longueur_poisson_cm</th>\n",
       "      <th>Substrat_Suivis</th>\n",
       "      <th>Longueur_transect_metre</th>\n",
       "      <th>STATION_Identifiant</th>\n",
       "      <th>OBSERVATION_Coordonnees_MINX</th>\n",
       "      <th>OBSERVATION_Coordonnees_MINY</th>\n",
       "      <th>Flag</th>\n",
       "      <th>Year</th>\n",
       "    </tr>\n",
       "  </thead>\n",
       "  <tbody>\n",
       "    <tr>\n",
       "      <th>0</th>\n",
       "      <td>L'Ermitage_GH09</td>\n",
       "      <td>2007-12-27</td>\n",
       "      <td>Epinephelus merra</td>\n",
       "      <td>Acropore digité</td>\n",
       "      <td>1.0</td>\n",
       "      <td>12</td>\n",
       "      <td>Substrat dur colonisé</td>\n",
       "      <td>20</td>\n",
       "      <td>60010458</td>\n",
       "      <td>55.22161</td>\n",
       "      <td>-21.08205</td>\n",
       "      <td>Belt</td>\n",
       "      <td>2007</td>\n",
       "    </tr>\n",
       "    <tr>\n",
       "      <th>1</th>\n",
       "      <td>L'Ermitage_GH09</td>\n",
       "      <td>2007-12-27</td>\n",
       "      <td>Epinephelus merra</td>\n",
       "      <td>Acropore branchu</td>\n",
       "      <td>2.0</td>\n",
       "      <td>14</td>\n",
       "      <td>Substrat dur colonisé</td>\n",
       "      <td>20</td>\n",
       "      <td>60010458</td>\n",
       "      <td>55.22161</td>\n",
       "      <td>-21.08205</td>\n",
       "      <td>Belt</td>\n",
       "      <td>2007</td>\n",
       "    </tr>\n",
       "    <tr>\n",
       "      <th>2</th>\n",
       "      <td>L'Ermitage_GH09</td>\n",
       "      <td>2008-12-31</td>\n",
       "      <td>Epinephelus merra</td>\n",
       "      <td>Non-Acropore submassif</td>\n",
       "      <td>1.0</td>\n",
       "      <td>8</td>\n",
       "      <td>Substrat dur colonisé</td>\n",
       "      <td>20</td>\n",
       "      <td>60010458</td>\n",
       "      <td>55.22161</td>\n",
       "      <td>-21.08205</td>\n",
       "      <td>Belt</td>\n",
       "      <td>2008</td>\n",
       "    </tr>\n",
       "    <tr>\n",
       "      <th>3</th>\n",
       "      <td>L'Ermitage_GH09</td>\n",
       "      <td>2008-12-31</td>\n",
       "      <td>Epinephelus merra</td>\n",
       "      <td>Non-Acropore submassif</td>\n",
       "      <td>2.0</td>\n",
       "      <td>17</td>\n",
       "      <td>Substrat dur colonisé</td>\n",
       "      <td>20</td>\n",
       "      <td>60010458</td>\n",
       "      <td>55.22161</td>\n",
       "      <td>-21.08205</td>\n",
       "      <td>Belt</td>\n",
       "      <td>2008</td>\n",
       "    </tr>\n",
       "    <tr>\n",
       "      <th>4</th>\n",
       "      <td>L'Ermitage_GH09</td>\n",
       "      <td>2008-12-31</td>\n",
       "      <td>Epinephelus merra</td>\n",
       "      <td>Non-Acropore submassif</td>\n",
       "      <td>3.0</td>\n",
       "      <td>14</td>\n",
       "      <td>Substrat dur colonisé</td>\n",
       "      <td>20</td>\n",
       "      <td>60010458</td>\n",
       "      <td>55.22161</td>\n",
       "      <td>-21.08205</td>\n",
       "      <td>Belt</td>\n",
       "      <td>2008</td>\n",
       "    </tr>\n",
       "  </tbody>\n",
       "</table>\n",
       "</div>"
      ],
      "text/plain": [
       "           Station       Date              Taxon           Groupe_taxons  \\\n",
       "0  L'Ermitage_GH09 2007-12-27  Epinephelus merra         Acropore digité   \n",
       "1  L'Ermitage_GH09 2007-12-27  Epinephelus merra        Acropore branchu   \n",
       "2  L'Ermitage_GH09 2008-12-31  Epinephelus merra  Non-Acropore submassif   \n",
       "3  L'Ermitage_GH09 2008-12-31  Epinephelus merra  Non-Acropore submassif   \n",
       "4  L'Ermitage_GH09 2008-12-31  Epinephelus merra  Non-Acropore submassif   \n",
       "\n",
       "   MESURE_Numero_individu Longueur_poisson_cm        Substrat_Suivis  \\\n",
       "0                     1.0                  12  Substrat dur colonisé   \n",
       "1                     2.0                  14  Substrat dur colonisé   \n",
       "2                     1.0                   8  Substrat dur colonisé   \n",
       "3                     2.0                  17  Substrat dur colonisé   \n",
       "4                     3.0                  14  Substrat dur colonisé   \n",
       "\n",
       "   Longueur_transect_metre  STATION_Identifiant OBSERVATION_Coordonnees_MINX  \\\n",
       "0                       20             60010458                     55.22161   \n",
       "1                       20             60010458                     55.22161   \n",
       "2                       20             60010458                     55.22161   \n",
       "3                       20             60010458                     55.22161   \n",
       "4                       20             60010458                     55.22161   \n",
       "\n",
       "  OBSERVATION_Coordonnees_MINY  Flag  Year  \n",
       "0                    -21.08205  Belt  2007  \n",
       "1                    -21.08205  Belt  2007  \n",
       "2                    -21.08205  Belt  2008  \n",
       "3                    -21.08205  Belt  2008  \n",
       "4                    -21.08205  Belt  2008  "
      ]
     },
     "execution_count": 10,
     "metadata": {},
     "output_type": "execute_result"
    }
   ],
   "source": [
    "cleaned_data.head()"
   ]
  },
  {
   "cell_type": "code",
   "execution_count": 8,
   "metadata": {},
   "outputs": [
    {
     "data": {
      "text/plain": [
       "array(['Substrat dur colonisé', nan, 'Corail mort en place', 'Débris',\n",
       "       'Sable', 'Dalle corallienne', 'Substrat meuble'], dtype=object)"
      ]
     },
     "execution_count": 8,
     "metadata": {},
     "output_type": "execute_result"
    }
   ],
   "source": [
    "cleaned_data[\"Substrat_Suivis\"].unique()"
   ]
  }
 ],
 "metadata": {
  "kernelspec": {
   "display_name": "Python 3",
   "language": "python",
   "name": "python3"
  },
  "language_info": {
   "codemirror_mode": {
    "name": "ipython",
    "version": 3
   },
   "file_extension": ".py",
   "mimetype": "text/x-python",
   "name": "python",
   "nbconvert_exporter": "python",
   "pygments_lexer": "ipython3",
   "version": "3.11.3"
  }
 },
 "nbformat": 4,
 "nbformat_minor": 2
}
