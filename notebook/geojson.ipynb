{
 "cells": [
  {
   "cell_type": "code",
   "execution_count": 49,
   "metadata": {},
   "outputs": [],
   "source": [
    "import geopandas as gpd\n",
    "from shapely.geometry import Point\n",
    "import pandas as pd"
   ]
  },
  {
   "cell_type": "code",
   "execution_count": 50,
   "metadata": {},
   "outputs": [],
   "source": [
    "path_lit = \"../data/lit_cleadedAndTransform.csv\"\n",
    "df = pd.read_csv(path_lit, sep=\",\")\n",
    "df = df[[\"STATION_Identifiant\", \"Station\", \"OBSERVATION_Coordonnees_MINX\", \"OBSERVATION_Coordonnees_MINY\"]]"
   ]
  },
  {
   "cell_type": "code",
   "execution_count": 51,
   "metadata": {},
   "outputs": [],
   "source": [
    "df = df.drop_duplicates(subset=['OBSERVATION_Coordonnees_MINY', 'OBSERVATION_Coordonnees_MINX', 'STATION_Identifiant'])"
   ]
  },
  {
   "cell_type": "code",
   "execution_count": 45,
   "metadata": {},
   "outputs": [],
   "source": [
    "doublons = df[df.duplicated(subset=[\"STATION_Identifiant\"], keep=False)]"
   ]
  },
  {
   "cell_type": "code",
   "execution_count": 46,
   "metadata": {},
   "outputs": [
    {
     "name": "stdout",
     "output_type": "stream",
     "text": [
      "(22, 4)\n",
      "       STATION_Identifiant            Station  OBSERVATION_Coordonnees_MINX  \\\n",
      "13247             60010451     La Saline_GH02                      55.23555   \n",
      "13576             60010451     La Saline_GH02                      55.23568   \n",
      "13631             60010452     La Saline_GH03                      55.23066   \n",
      "13930             60010452     La Saline_GH03                      55.23077   \n",
      "14712             60010455     La Saline_GH06                      55.22929   \n",
      "15103             60010455     La Saline_GH06                      55.23038   \n",
      "15602             60010457     La Saline_GH08                      55.22686   \n",
      "15927             60010457     La Saline_GH08                      55.22720   \n",
      "17334             60010484     La Saline_GR15                      55.23840   \n",
      "17630             60010484     La Saline_GR15                      55.23843   \n",
      "23040             60010498     Saint-Leu_LH09                      55.28586   \n",
      "23182             60010498     Saint-Leu_LH09                      55.28603   \n",
      "26649             60010512     Saint-Leu_LR03                      55.28518   \n",
      "26894             60010512     Saint-Leu_LR03                      55.28543   \n",
      "27998             60010516     Saint-Leu_LR07                      55.28509   \n",
      "28236             60010516     Saint-Leu_LR07                      55.28545   \n",
      "28340             60010517     Saint-Leu_LR08                      55.28495   \n",
      "28591             60010517     Saint-Leu_LR08                      55.28533   \n",
      "31014             60010527  Saint-Pierre_PH08                      55.46608   \n",
      "31217             60010527  Saint-Pierre_PH08                      55.46608   \n",
      "31251             60010528  Saint-Pierre_PH09                      55.46531   \n",
      "31462             60010528  Saint-Pierre_PH09                      55.46577   \n",
      "\n",
      "       OBSERVATION_Coordonnees_MINY  \n",
      "13247                     -21.09710  \n",
      "13576                     -21.09702  \n",
      "13631                     -21.09243  \n",
      "13930                     -21.09255  \n",
      "14712                     -21.09208  \n",
      "15103                     -21.09204  \n",
      "15602                     -21.08950  \n",
      "15927                     -21.08936  \n",
      "17334                     -21.10025  \n",
      "17630                     -21.10041  \n",
      "23040                     -21.17796  \n",
      "23182                     -21.17823  \n",
      "26649                     -21.17355  \n",
      "26894                     -21.17340  \n",
      "27998                     -21.17393  \n",
      "28236                     -21.17380  \n",
      "28340                     -21.17358  \n",
      "28591                     -21.17345  \n",
      "31014                     -21.34402  \n",
      "31217                     -21.34348  \n",
      "31251                     -21.34376  \n",
      "31462                     -21.34318  \n"
     ]
    }
   ],
   "source": [
    "print(doublons.shape)\n",
    "print(doublons)"
   ]
  },
  {
   "cell_type": "code",
   "execution_count": 47,
   "metadata": {},
   "outputs": [
    {
     "data": {
      "text/plain": [
       "90"
      ]
     },
     "execution_count": 47,
     "metadata": {},
     "output_type": "execute_result"
    }
   ],
   "source": [
    "len(df[\"STATION_Identifiant\"].unique().tolist())"
   ]
  },
  {
   "cell_type": "code",
   "execution_count": 52,
   "metadata": {},
   "outputs": [
    {
     "name": "stdout",
     "output_type": "stream",
     "text": [
      "(90, 4)\n"
     ]
    }
   ],
   "source": [
    "df = df.drop_duplicates(subset=['STATION_Identifiant'])\n",
    "print(df.shape)"
   ]
  },
  {
   "cell_type": "code",
   "execution_count": 53,
   "metadata": {},
   "outputs": [],
   "source": [
    "df['geometry'] = df.apply(lambda row: Point(row['OBSERVATION_Coordonnees_MINX'], row['OBSERVATION_Coordonnees_MINY']), axis=1)\n",
    "gdf = gpd.GeoDataFrame(df, geometry='geometry')\n",
    "\n",
    "# Définir le système de coordonnées de référence (SCR) à WGS84\n",
    "gdf.crs = \"EPSG:4326\"\n",
    "\n"
   ]
  },
  {
   "cell_type": "code",
   "execution_count": 8,
   "metadata": {},
   "outputs": [
    {
     "data": {
      "text/html": [
       "<div>\n",
       "<style scoped>\n",
       "    .dataframe tbody tr th:only-of-type {\n",
       "        vertical-align: middle;\n",
       "    }\n",
       "\n",
       "    .dataframe tbody tr th {\n",
       "        vertical-align: top;\n",
       "    }\n",
       "\n",
       "    .dataframe thead th {\n",
       "        text-align: right;\n",
       "    }\n",
       "</style>\n",
       "<table border=\"1\" class=\"dataframe\">\n",
       "  <thead>\n",
       "    <tr style=\"text-align: right;\">\n",
       "      <th></th>\n",
       "      <th>Station</th>\n",
       "      <th>Date</th>\n",
       "      <th>Taxon</th>\n",
       "      <th>Groupe_taxons</th>\n",
       "      <th>MESURE_Numero_individu</th>\n",
       "      <th>REPLICAT_Longueur_transect</th>\n",
       "      <th>STATION_Identifiant</th>\n",
       "      <th>OBSERVATION_Coordonnees_MINX</th>\n",
       "      <th>OBSERVATION_Coordonnees_MINY</th>\n",
       "      <th>OBSERVATION_Coordonnees_MAXX</th>\n",
       "      <th>OBSERVATION_Coordonnees_MAXY</th>\n",
       "      <th>Flag</th>\n",
       "      <th>Year</th>\n",
       "      <th>geometry</th>\n",
       "    </tr>\n",
       "  </thead>\n",
       "  <tbody>\n",
       "    <tr>\n",
       "      <th>0</th>\n",
       "      <td>L'Ermitage_GH09</td>\n",
       "      <td>2008-12-31</td>\n",
       "      <td>NaN</td>\n",
       "      <td>NaN</td>\n",
       "      <td>1</td>\n",
       "      <td>2000</td>\n",
       "      <td>60010458</td>\n",
       "      <td>55.22161</td>\n",
       "      <td>-21.08205</td>\n",
       "      <td>55.22161</td>\n",
       "      <td>-21.08205</td>\n",
       "      <td>substrat</td>\n",
       "      <td>2008</td>\n",
       "      <td>POINT (55.22161 -21.08205)</td>\n",
       "    </tr>\n",
       "    <tr>\n",
       "      <th>1</th>\n",
       "      <td>L'Ermitage_GH09</td>\n",
       "      <td>2008-12-31</td>\n",
       "      <td>NaN</td>\n",
       "      <td>Acropore digité</td>\n",
       "      <td>2</td>\n",
       "      <td>2000</td>\n",
       "      <td>60010458</td>\n",
       "      <td>55.22161</td>\n",
       "      <td>-21.08205</td>\n",
       "      <td>55.22161</td>\n",
       "      <td>-21.08205</td>\n",
       "      <td>substrat</td>\n",
       "      <td>2008</td>\n",
       "      <td>POINT (55.22161 -21.08205)</td>\n",
       "    </tr>\n",
       "    <tr>\n",
       "      <th>2</th>\n",
       "      <td>L'Ermitage_GH09</td>\n",
       "      <td>2008-12-31</td>\n",
       "      <td>NaN</td>\n",
       "      <td>Non-Acropore encroutant</td>\n",
       "      <td>3</td>\n",
       "      <td>2000</td>\n",
       "      <td>60010458</td>\n",
       "      <td>55.22161</td>\n",
       "      <td>-21.08205</td>\n",
       "      <td>55.22161</td>\n",
       "      <td>-21.08205</td>\n",
       "      <td>substrat</td>\n",
       "      <td>2008</td>\n",
       "      <td>POINT (55.22161 -21.08205)</td>\n",
       "    </tr>\n",
       "    <tr>\n",
       "      <th>3</th>\n",
       "      <td>L'Ermitage_GH09</td>\n",
       "      <td>2008-12-31</td>\n",
       "      <td>NaN</td>\n",
       "      <td>NaN</td>\n",
       "      <td>4</td>\n",
       "      <td>2000</td>\n",
       "      <td>60010458</td>\n",
       "      <td>55.22161</td>\n",
       "      <td>-21.08205</td>\n",
       "      <td>55.22161</td>\n",
       "      <td>-21.08205</td>\n",
       "      <td>substrat</td>\n",
       "      <td>2008</td>\n",
       "      <td>POINT (55.22161 -21.08205)</td>\n",
       "    </tr>\n",
       "    <tr>\n",
       "      <th>4</th>\n",
       "      <td>L'Ermitage_GH09</td>\n",
       "      <td>2008-12-31</td>\n",
       "      <td>NaN</td>\n",
       "      <td>Acropore branchu</td>\n",
       "      <td>5</td>\n",
       "      <td>2000</td>\n",
       "      <td>60010458</td>\n",
       "      <td>55.22161</td>\n",
       "      <td>-21.08205</td>\n",
       "      <td>55.22161</td>\n",
       "      <td>-21.08205</td>\n",
       "      <td>substrat</td>\n",
       "      <td>2008</td>\n",
       "      <td>POINT (55.22161 -21.08205)</td>\n",
       "    </tr>\n",
       "  </tbody>\n",
       "</table>\n",
       "</div>"
      ],
      "text/plain": [
       "           Station        Date  Taxon            Groupe_taxons  \\\n",
       "0  L'Ermitage_GH09  2008-12-31    NaN                      NaN   \n",
       "1  L'Ermitage_GH09  2008-12-31    NaN          Acropore digité   \n",
       "2  L'Ermitage_GH09  2008-12-31    NaN  Non-Acropore encroutant   \n",
       "3  L'Ermitage_GH09  2008-12-31    NaN                      NaN   \n",
       "4  L'Ermitage_GH09  2008-12-31    NaN         Acropore branchu   \n",
       "\n",
       "   MESURE_Numero_individu REPLICAT_Longueur_transect  STATION_Identifiant  \\\n",
       "0                       1                       2000             60010458   \n",
       "1                       2                       2000             60010458   \n",
       "2                       3                       2000             60010458   \n",
       "3                       4                       2000             60010458   \n",
       "4                       5                       2000             60010458   \n",
       "\n",
       "   OBSERVATION_Coordonnees_MINX  OBSERVATION_Coordonnees_MINY  \\\n",
       "0                      55.22161                     -21.08205   \n",
       "1                      55.22161                     -21.08205   \n",
       "2                      55.22161                     -21.08205   \n",
       "3                      55.22161                     -21.08205   \n",
       "4                      55.22161                     -21.08205   \n",
       "\n",
       "   OBSERVATION_Coordonnees_MAXX  OBSERVATION_Coordonnees_MAXY      Flag  Year  \\\n",
       "0                      55.22161                     -21.08205  substrat  2008   \n",
       "1                      55.22161                     -21.08205  substrat  2008   \n",
       "2                      55.22161                     -21.08205  substrat  2008   \n",
       "3                      55.22161                     -21.08205  substrat  2008   \n",
       "4                      55.22161                     -21.08205  substrat  2008   \n",
       "\n",
       "                     geometry  \n",
       "0  POINT (55.22161 -21.08205)  \n",
       "1  POINT (55.22161 -21.08205)  \n",
       "2  POINT (55.22161 -21.08205)  \n",
       "3  POINT (55.22161 -21.08205)  \n",
       "4  POINT (55.22161 -21.08205)  "
      ]
     },
     "execution_count": 8,
     "metadata": {},
     "output_type": "execute_result"
    }
   ],
   "source": [
    "df.head()"
   ]
  },
  {
   "cell_type": "code",
   "execution_count": 57,
   "metadata": {},
   "outputs": [],
   "source": [
    "# Enregistrer le GeoDataFrame en tant que fichier\n",
    "gdf.to_file('../data/station_coord.geojson', driver='GeoJSON')"
   ]
  }
 ],
 "metadata": {
  "kernelspec": {
   "display_name": ".venv",
   "language": "python",
   "name": "python3"
  },
  "language_info": {
   "codemirror_mode": {
    "name": "ipython",
    "version": 3
   },
   "file_extension": ".py",
   "mimetype": "text/x-python",
   "name": "python",
   "nbconvert_exporter": "python",
   "pygments_lexer": "ipython3",
   "version": "3.11.3"
  }
 },
 "nbformat": 4,
 "nbformat_minor": 2
}
